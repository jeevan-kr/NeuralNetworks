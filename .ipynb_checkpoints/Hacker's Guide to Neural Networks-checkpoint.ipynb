{
 "cells": [
  {
   "cell_type": "markdown",
   "metadata": {},
   "source": [
    "# Hacker's guide to Neural Networks\n",
    "__Original Author:__ Andrej Karpathy  \n",
    "__Link to Original Material:__ [LINK](http://karpathy.github.io/neuralnets/)"
   ]
  },
  {
   "cell_type": "markdown",
   "metadata": {},
   "source": [
    "## Chapter 1: Real-valued Circuits\n",
    "\n",
    "In my opinion, the best way to think of Neural Networks is as real-valued circuits, where real values (instead of boolean values {0,1}) “flow” along edges and interact in gates. However, instead of gates such as AND, OR, NOT, etc, we have binary gates such as * (multiply), + (add), max or unary gates such as exp, etc. Unlike ordinary boolean circuits, however, we will eventually also have gradients flowing on the same edges of the circuit, but in the opposite direction. But we’re getting ahead of ourselves. Let’s focus and start out simple.\n",
    "\n",
    "### Base Case: Single Gate in the circuit\n",
    "Lets first consider a single, simple circuit with one gate. Here’s an example:  \n",
    "\n",
    "![](multiplygate.png)\n",
    "\n",
    "The circuit takes two real-valued inputs x and y and computes x * y with the * gate. Python version of this would very simply look something like this:"
   ]
  },
  {
   "cell_type": "code",
   "execution_count": 17,
   "metadata": {
    "collapsed": false
   },
   "outputs": [
    {
     "name": "stdout",
     "output_type": "stream",
     "text": [
      "-6\n"
     ]
    }
   ],
   "source": [
    "import numpy as np\n",
    "import random\n",
    "\n",
    "def forwardMultiplyGate(x, y):\n",
    "    return x * y\n",
    "\n",
    "print forwardMultiplyGate(-2,3)\n",
    "\n",
    "\n",
    "def sigmoid(x):\n",
    "    return 1/(1+np.exp(-x))"
   ]
  },
  {
   "cell_type": "markdown",
   "metadata": {},
   "source": [
    "\n",
    "The problem we are interested in studying looks as follows:\n",
    "\n",
    "1. We provide a given circuit some specific input values (e.g. x = -2, y = 3)\n",
    "2. The circuit computes an output value (e.g. -6)\n",
    "3. The core question then becomes: How should one tweak the input slightly to increase the output?\n",
    "\n",
    "In this case, in what direction should we change x,y to get a number larger than -6? Note that, for example, `x = -1.99` and `y = 2.99` gives `x * y = -5.95`, which is higher than -6.0. Don’t get confused by this: -5.95 is better (higher) than -6.0. It’s an improvement of 0.05, even though the magnitude of -5.95 (the distance from zero) happens to be lower."
   ]
  },
  {
   "cell_type": "markdown",
   "metadata": {},
   "source": [
    "#### Strategy #1: Random Local Search"
   ]
  },
  {
   "cell_type": "markdown",
   "metadata": {},
   "source": [
    "Okay. So wait, we have a circuit, we have some inputs and we just want to tweak them slightly to increase the output value? Why is this hard? We can easily “forward” the circuit to compute the output for any given x and y. So isn’t this trivial? Why don’t we tweak x and y randomly and keep track of the tweak that works best:"
   ]
  },
  {
   "cell_type": "code",
   "execution_count": 18,
   "metadata": {
    "collapsed": false
   },
   "outputs": [
    {
     "name": "stdout",
     "output_type": "stream",
     "text": [
      "-1.99122545696 2.99231983915 -5.95838343908\n"
     ]
    }
   ],
   "source": [
    "tweak_amount = 0.01\n",
    "best_out = float('-inf')\n",
    "x = -2\n",
    "y = 3\n",
    "best_x = x\n",
    "best_y = y\n",
    "for k in range(0,100):\n",
    "    x_try = x + tweak_amount * (random.random() *2 -1)\n",
    "    y_try = y + tweak_amount * (random.random() *2 -1)\n",
    "    out = forwardMultiplyGate(x_try, y_try)\n",
    "    #print x_try, y_try, out\n",
    "    if out > best_out:\n",
    "        best_out = out\n",
    "        best_x = x_try\n",
    "        best_y = y_try\n",
    "        #print 'best'\n",
    "print best_x, best_y, best_x *best_y"
   ]
  },
  {
   "cell_type": "markdown",
   "metadata": {},
   "source": [
    "When I run this, I get `best_x = -1.9928`, `best_y = 2.9901`, and `best_out = -5.9588`. Again, -5.9588 is higher than -6.0. So, we’re done, right? Not quite: This is a perfectly fine strategy for tiny problems with a few gates if you can afford the compute time, but it won’t do if we want to eventually consider huge circuits with millions of inputs. It turns out that we can do much better."
   ]
  },
  {
   "cell_type": "markdown",
   "metadata": {},
   "source": [
    "#### Stategy #2: Numerical Gradient"
   ]
  },
  {
   "cell_type": "markdown",
   "metadata": {},
   "source": [
    "Here’s a better way. Remember again that in our setup we are given a circuit (e.g. our circuit with a single * gate) and some particular input (e.g. x = -2, y = 3). The gate computes the output (-6) and now we’d like to tweak x and y to make the output higher.\n",
    "\n",
    "A nice intuition for what we’re about to do is as follows: Imagine taking the output value that comes out from the circuit and tugging on it in the positive direction. This positive tension will in turn translate through the gate and induce forces on the inputs x and y. Forces that tell us how x and y should change to increase the output value.\n",
    "\n",
    "What might those forces look like in our specific example? Thinking through it, we can intuit that the force on x should also be positive, because making x slightly larger improves the circuit’s output. For example, increasing x from `x = -2` to `x = -1` would give us output -3 - much larger than -6. On the other hand, we’d expect a negative force induced on y that pushes it to become lower (since a lower y, such as `y = 2`, down from the original `y = 3` would make output higher: 2 `x -2 = -4`, again, larger than -6). That’s the intuition to keep in mind, anyway. As we go through this, it will turn out that forces I’m describing will in fact turn out to be the derivative of the output value with respect to its inputs (x and y). You may have heard this term before."
   ]
  },
  {
   "cell_type": "markdown",
   "metadata": {},
   "source": [
    "> The derivative can be thought of as a force on each input as we pull on the output to become higher.\n",
    "\n",
    "So how do we exactly evaluate this force (derivative)? It turns out that there is a very simple procedure for this. We will work backwards: Instead of pulling on the circuit’s output, we’ll iterate over every input one by one, increase it very slightly and look at what happens to the output value. The amount the output changes in response is the derivative. Enough intuitions for now. Lets look at the mathematical definition. We can write down the derivative for our function with respect to the inputs. For example, the derivative with respect to `x` can be computed as:\n",
    "\n",
    "$$ \\frac{\\partial f(x,y)}{\\partial x} = \\frac{f(x+h,y) - f(x,y)}{h}$$\n",
    "\n",
    "Where h is small - it’s the tweak amount. Also, if you’re not very familiar with calculus it is important to note that in the left-hand side of the equation above, the horizontal line does not indicate division. The entire symbol $\\frac{\\partial f(x,y)}{\\partial x}$ is a single thing: the derivative of the function $f(x,y)$ with respect to $x$. The horizontal line on the right is division. I know it’s confusing but it’s standard notation. Anyway, I hope it doesn’t look too scary because it isn’t: The circuit was giving some initial output $f(x,y)$, and then we changed one of the inputs by a tiny amount $h$ and read the new output $f(x+h,y)$. Subtracting those two quantities tells us the change, and the division by $h$ just normalizes this change by the (arbitrary) tweak amount we used. In other words it’s expressing exactly what I described above and translates directly to this code:"
   ]
  },
  {
   "cell_type": "code",
   "execution_count": 19,
   "metadata": {
    "collapsed": false
   },
   "outputs": [
    {
     "name": "stdout",
     "output_type": "stream",
     "text": [
      "-2 3.0 -5.9997 3 -2.0 -6.0002\n"
     ]
    }
   ],
   "source": [
    "x, y = (-2, 3)\n",
    "out = forwardMultiplyGate(x,y)\n",
    "h = 0.0001\n",
    "\n",
    "#Compute df/dx\n",
    "xph = x + h\n",
    "out2 = forwardMultiplyGate(xph, y)\n",
    "df_dx = (out2 - out) / h\n",
    "\n",
    "#Compute df/dy \n",
    "yph = y + h\n",
    "out3 = forwardMultiplyGate(x, yph)\n",
    "df_dy = (out3 - out) / h\n",
    "\n",
    "print x, df_dx, out2, y, df_dy, out3\n",
    "\n"
   ]
  },
  {
   "cell_type": "markdown",
   "metadata": {},
   "source": [
    "Lets walk through $x$ for example. We turned the knob from $x$ to $x + h$ and the circuit responded by giving a higher value (note again that yes, -5.9997 is higher than -6: -5.9997 > -6). The division by h is there to normalize the circuit’s response by the (arbitrary) value of h we chose to use here. Technically, you want the value of h to be infinitesimal (the precise mathematical definition of the gradient is defined as the limit of the expression as h goes to zero), but in practice h=0.00001 or so works fine in most cases to get a good approximation. Now, we see that the derivative w.r.t. $x$ is +3. I’m making the positive sign explicit, because it indicates that the circuit is tugging on x to become higher. The actual value, 3 can be interpreted as the force of that tug.\n",
    "\n",
    "> The derivative with respect to some input can be computed by tweaking that input by a small amount and observing the change on the output value.\n",
    "\n",
    "By the way, we usually talk about the derivative with respect to a single input, or about a gradient with respect to all the inputs. The gradient is just made up of the derivatives of all the inputs concatenated in a vector (i.e. a list). Crucially, notice that if we let the inputs respond to the tug by following the gradient a tiny amount (i.e. we just add the derivative on top of every input), we can see that the value increases, as expected:"
   ]
  },
  {
   "cell_type": "code",
   "execution_count": 20,
   "metadata": {
    "collapsed": false
   },
   "outputs": [
    {
     "name": "stdout",
     "output_type": "stream",
     "text": [
      "-6 -5.8706\n"
     ]
    }
   ],
   "source": [
    "step_size = 0.01\n",
    "out = forwardMultiplyGate(x, y)\n",
    "x = x + step_size * df_dx\n",
    "y = y + step_size * df_dy\n",
    "\n",
    "out_new = forwardMultiplyGate(x,y)\n",
    "print out, out_new"
   ]
  },
  {
   "cell_type": "markdown",
   "metadata": {
    "collapsed": true
   },
   "source": [
    "As expected, we changed the inputs by the gradient and the circuit now gives a slightly higher value (-5.87 > -6.0). That was much simpler than trying random changes to x and y, right? A fact to appreciate here is that if you take calculus you can prove that the gradient is, in fact, the direction of the steepest increase of the function. There is no need to monkey around trying out random pertubations as done in Strategy #1. Evaluating the gradient requires just three evaluations of the forward pass of our circuit instead of hundreds, and gives the best tug you can hope for (locally) if you are interested in increasing the value of the output.\n",
    "\n",
    "Bigger step is not always better. Let me clarify on this point a bit. It is important to note that in this very simple example, using a bigger step_size than 0.01 will always work better. For example, step_size = 1.0 gives output -1 (higer, better!), and indeed infinite step size would give infinitely good results. The crucial thing to realize is that once our circuits get much more complex (e.g. entire neural networks), the function from inputs to the output value will be more chaotic and wiggly. The gradient guarantees that if you have a very small (indeed, infinitesimally small) step size, then you will definitely get a higher number when you follow its direction, and for that infinitesimally small step size there is no other direction that would have worked better. But if you use a bigger step size (e.g. step_size = 0.01) all bets are off. The reason we can get away with a larger step size than infinitesimally small is that our functions are usually relatively smooth. But really, we’re crossing our fingers and hoping for the best.\n",
    "\n",
    "Hill-climbing analogy. One analogy I’ve heard before is that the output value of our circut is like the height of a hill, and we are blindfolded and trying to climb upwards. We can sense the steepness of the hill at our feet (the gradient), so when we shuffle our feet a bit we will go upwards. But if we took a big, overconfident step, we could have stepped right into a hole.\n",
    "\n",
    "Great, I hope I’ve convinced you that the numerical gradient is indeed a very useful thing to evaluate, and that it is cheap. But. It turns out that we can do even better.\n",
    "### Strategy #3: Analytic Gradient\n",
    "\n",
    "In the previous section we evaluated the gradient by probing the circuit’s output value, independently for every input. This procedure gives you what we call a numerical gradient. This approach, however, is still expensive because we need to compute the circuit’s output as we tweak every input value independently a small amount. So the complexity of evaluating the gradient is linear in number of inputs. But in practice we will have hundreds, thousands or (for neural networks) even tens to hundreds of millions of inputs, and the circuits aren’t just one multiply gate but huge expressions that can be expensive to compute. We need something better.\n",
    "\n",
    "Luckily, there is an easier and much faster way to compute the gradient: we can use calculus to derive a direct expression for it that will be as simple to evaluate as the circuit’s output value. We call this an analytic gradient and there will be no need for tweaking anything. You may have seen other people who teach Neural Networks derive the gradient in huge and, frankly, scary and confusing mathematical equations (if you’re not well-versed in maths). But it’s unnecessary. I’ve written plenty of Neural Nets code and I rarely have to do mathematical derivation longer than two lines, and 95% of the time it can be done without writing anything at all. That is because we will only ever derive the gradient for very small and simple expressions (think of it as the base case) and then I will show you how we can compose these very simply with chain rule to evaluate the full gradient (think inductive/recursive case).\n",
    "\n",
    "> The analytic derivative requires no tweaking of the inputs. It can be derived using mathematics (calculus).\n",
    "\n",
    "If you remember your product rules, power rules, quotient rules, etc. (see e.g. derivative rules or wiki page), it’s very easy to write down the derivitative with respect to both $x$ and $y$ for a small expression such as $x * y$. But suppose you don’t remember your calculus rules. We can go back to the definition. For example, here’s the expression for the derivative w.r.t $x$:\n",
    "\n",
    "$$ \\frac{\\partial f(x,y)}{\\partial x} = \\frac{f(x+h,y) - f(x,y)}{h}$$\n",
    "\n",
    "$$ \\frac{\\partial f(x,y)}{\\partial x} = \\frac{f(x+h,y) - f(x,y)}{h} = \\frac{(x+h)y - xy}{h} = \\frac{xy-hy-xy}{h} = \\frac{hy}{h} = y $$\n",
    "\n",
    "\n",
    "\n",
    "That’s interesting. The derivative with respect to x is just equal to y. Did you notice the coincidence in the previous section? We tweaked x to x+h and calculated x_derivative = 3.0, which exactly happens to be the value of y in that example. It turns out that wasn’t a coincidence at all because that’s just what the analytic gradient tells us the x derivative should be for f(x,y) = x * y. The derivative with respect to y, by the way, turns out to be x, unsurprisingly by symmetry. So there is no need for any tweaking! We invoked powerful mathematics and can now transform our derivative calculation into the following code:\n"
   ]
  },
  {
   "cell_type": "code",
   "execution_count": 21,
   "metadata": {
    "collapsed": false
   },
   "outputs": [
    {
     "name": "stdout",
     "output_type": "stream",
     "text": [
      "-5.8706\n"
     ]
    }
   ],
   "source": [
    "x,y = (-2, 3)\n",
    "out = forwardMultiplyGate(x, y)# before: -6\n",
    "x_gradient = y # by our complex mathematical derivation above\n",
    "y_gradient = x\n",
    "\n",
    "step_size = 0.01\n",
    "x += step_size * x_gradient; # -2.03\n",
    "y += step_size * y_gradient; # 2.98\n",
    "out_new = forwardMultiplyGate(x, y); # -5.87. Higher output! Nice.\n",
    "print out_new\n"
   ]
  },
  {
   "cell_type": "markdown",
   "metadata": {
    "collapsed": true
   },
   "source": [
    "To compute the gradient we went from forwarding the circuit hundreds of times (Strategy #1) to forwarding it only on order of number of times twice the number of inputs (Strategy #2), to forwarding it a single time! And it gets EVEN better, since the more expensive strategies (#1 and #2) only give an approximation of the gradient, while #3 (the fastest one by far) gives you the exact gradient. No approximations. The only downside is that you should be comfortable with some calculus 101.\n",
    "\n",
    "Lets recap what we have learned:\n",
    "\n",
    "* INPUT: We are given a circuit, some inputs and compute an output value.\n",
    "* OUTPUT: We are then interested finding small changes to each input (independently) that would make the output higher.\n",
    "* Strategy #1: One silly way is to randomly search for small pertubations of the inputs and keep track of what gives the highest increase in output.\n",
    "* Strategy #2: We saw we can do much better by computing the gradient. Regardless of how complicated the circuit is, the numerical gradient is very simple (but relatively expensive) to compute. We compute it by probing the circuit’s output value as we tweak the inputs one at a time.\n",
    "* Strategy #3: In the end, we saw that we can be even more clever and analytically derive a direct expression to get the analytic gradient. It is identical to the numerical gradient, it is fastest by far, and there is no need for any tweaking.\n",
    "\n",
    "In practice by the way (and we will get to this once again later), all Neural Network libraries always compute the analytic gradient, but the correctness of the implementation is verified by comparing it to the numerical gradient. That’s because the numerical gradient is very easy to evaluate (but can be a bit expensive to compute), while the analytic gradient can contain bugs at times, but is usually extremely efficient to compute. As we will see, evaluating the gradient (i.e. while doing backprop, or backward pass) will turn out to cost about as much as evaluating the _forward pass_.\n",
    "\n",
    "### Recursive Case: Circuits with Multiple Gates\n",
    "\n",
    "But hold on, you say: \"The analytic gradient was trivial to derive for your super-simple expression. This is useless. What do I do when the expressions are much larger? Don’t the equations get huge and complex very fast\". Good question. Yes the expressions get much more complex. No, this doesn’t make it much harder. As we will see, every gate will be hanging out by itself, completely unaware of any details of the huge and complex circuit that it could be part of. It will only worry about its inputs and it will compute its local derivatives as seen in the previous section, except now there will be a single extra multiplication it will have to do.\n",
    "\n",
    "> A single extra multiplication will turn a single (useless gate) into a cog in the complex machine that is an entire neural network.\n",
    "\n",
    "I should stop hyping it up now. I hope I’ve piqued your interest! Lets drill down into details and get two gates involved with this next example:\n",
    "![](multicircuit.png)\n",
    "\n",
    "The expression we are computing now is $f(x,y,z)=(x+y)z$. Lets structure the code as follows to make the gates explicit as functions:"
   ]
  },
  {
   "cell_type": "code",
   "execution_count": 22,
   "metadata": {
    "collapsed": false
   },
   "outputs": [
    {
     "name": "stdout",
     "output_type": "stream",
     "text": [
      "-12\n"
     ]
    }
   ],
   "source": [
    "def forwardMultiplyGate(a, b):\n",
    "    return a * b\n",
    "\n",
    "def forwardAddGate(a, b):\n",
    "    return a + b\n",
    "\n",
    "def forwardCircuit(a, b, c):\n",
    "    t = forwardAddGate(a, b)\n",
    "    return forwardMultiplyGate(t, c)\n",
    "\n",
    "x, y, z  = (-2, 5, -4)\n",
    "print forwardCircuit(x, y, z)"
   ]
  },
  {
   "cell_type": "markdown",
   "metadata": {
    "collapsed": true
   },
   "source": [
    "In the above, I am using $a$ and $b$ as the local variables in the gate functions so that we don’t get these confused with our circuit inputs $x,y,z$. As before, we are interested in finding the derivatives with respect to the three inputs $x,y,z$. But how do we compute it now that there are multiple gates involved? First, lets pretend that the $+$ gate is not there and that we only have two variables in the circuit: $q,z$ and $a$ single $*$ gate. Note that the $q$ is output of the $+$ gate. If we don’t worry about $x$ and $y$ but only about $q$ and $z$, then we are back to having only a single gate, and as far as that single $*$ gate is concerned, we know what the (analytic) derivates are from previous section. We can write them down (except here we’re replacing $x,y$ with $q,z$):"
   ]
  },
  {
   "cell_type": "markdown",
   "metadata": {},
   "source": [
    "\n",
    "$$f(q,z) = qz \\Rightarrow \\frac{\\partial f(q,z)}{\\partial q} = z, \\frac{\\partial f(q,z)}{\\partial z} = q$$\n",
    "\n",
    "Simple enough: these are the expressions for the gradient with respect to $q$ and $z$. But wait, we don’t want gradient with respect to $q$, but with respect to the inputs: $x$ and $y$. Luckily, $q$ is computed as a function of $x$ and $y$ (by addition in our example). We can write down the gradient for the addition gate as well, it’s even simpler:\n",
    "\n",
    "$$q(x,y) = x + y \\Rightarrow \\frac{\\partial q(x,y)}{\\partial x} = 1, \\frac{\\partial q(x,y)}{\\partial y} = 1$$\n",
    "\n",
    "That’s right, the derivatives are just $1$, regardless of the actual values of $x$ and $y$. If you think about it, this makes sense because to make the output of a single addition gate higher, we expect a positive tug on both $x$ and $y$, regardless of their values.\n",
    "\n",
    "### Backpropagation\n",
    "\n",
    "We are finally ready to invoke the Chain Rule: We know how to compute the gradient of q with respect to x and y (that’s a single gate case with + as the gate). And we know how to compute the gradient of our final output with respect to q. The chain rule tells us how to combine these to get the gradient of the final output with respect to x and y, which is what we’re ultimately interested in. Best of all, the chain rule very simply states that the right thing to do is to simply multiply the gradients together to chain them. For example, the final derivative for x will be:"
   ]
  },
  {
   "cell_type": "code",
   "execution_count": 23,
   "metadata": {
    "collapsed": false
   },
   "outputs": [
    {
     "name": "stdout",
     "output_type": "stream",
     "text": [
      "-4.0 -4.0 3.0\n"
     ]
    }
   ],
   "source": [
    "# Initial Conditions\n",
    "x, y, z = (-2.0, 5.0, -4.0)\n",
    "\n",
    "q = forwardAddGate(x,y)\n",
    "f = forwardMultiplyGate(q,z)\n",
    "\n",
    "# gradient of the MULTIPLY gate wrt its inputs\n",
    "\n",
    "# Given that f is a multiply gate\n",
    "der_f_wrt_z = q \n",
    "der_f_wrt_q = z\n",
    "\n",
    "# Given that q is a add gate\n",
    "der_q_wrt_x = 1.0\n",
    "der_q_wrt_y = 1.0\n",
    "\n",
    "#chain rule\n",
    "\n",
    "der_f_wrt_x = der_q_wrt_x * der_f_wrt_q\n",
    "der_f_wrt_y = der_q_wrt_y * der_f_wrt_q\n",
    "\n",
    "print der_f_wrt_x, der_f_wrt_y, der_f_wrt_z"
   ]
  },
  {
   "cell_type": "markdown",
   "metadata": {},
   "source": [
    "That’s it. We computed the gradient (the forces) and now we can let our inputs respond to it by a bit. Lets add the gradients on top of the inputs. The output value of the circuit better increase, up from -12!"
   ]
  },
  {
   "cell_type": "code",
   "execution_count": 24,
   "metadata": {
    "collapsed": false
   },
   "outputs": [
    {
     "name": "stdout",
     "output_type": "stream",
     "text": [
      "-11.5924 [-4.0, -4.0, 3.0] [-2.0, 5.0, -4.0] [-2.04, 4.96, -3.97]\n"
     ]
    }
   ],
   "source": [
    "gradient_f_wrt_xyz = [der_f_wrt_x\n",
    "                      , der_f_wrt_y\n",
    "                      , der_f_wrt_z]\n",
    "\n",
    "step_size = 0.01\n",
    "new_x = x + step_size * der_f_wrt_x\n",
    "new_y = y + step_size * der_f_wrt_y\n",
    "new_z = z + step_size * der_f_wrt_z\n",
    "\n",
    "q = forwardAddGate(new_x, new_y)\n",
    "f = forwardMultiplyGate(q, new_z)\n",
    "\n",
    "print f, gradient_f_wrt_xyz, [x, y, z], [new_x, new_y, new_z]"
   ]
  },
  {
   "cell_type": "markdown",
   "metadata": {},
   "source": [
    "Looks like that worked! Lets now try to interpret intuitively what just happened. The circuit wants to output higher values. The last gate saw inputs `q = 3, z = -4` and computed output `-12`. \"Pulling\" upwards on this output value induced a force on both `q` and `z`: To increase the output value, the circuit \"wants\" `z` to increase, as can be seen by the positive value of the derivative(`der_f_wrt_z = +3`). Again, the size of this derivative can be interpreted as the magnitude of the force. On the other hand, q felt a stronger and downward force, since `der_f_wrt_q = -4`. In other words the circuit wants `q` to decrease, with a force of `4`.\n",
    "\n",
    "Now we get to the second, + gate which outputs q. By default, the + gate computes its derivatives which tells us how to change `x` and `y` to make `q` higher. BUT! Here is the crucial point: the gradient on q was computed as negative (`der_f_wrt_q = -4`), so the circuit wants q to decrease, and with a force of 4! So if the + gate wants to contribute to making the final output value larger, it needs to listen to the gradient signal coming from the top. In this particular case, it needs to apply tugs on `x, y` opposite of what it would normally apply, and with a force of `4`, so to speak. The multiplication by `-4` seen in the chain rule achieves exactly this: instead of applying a positive force of `+1` on both `x` and `y` (the local derivative), the full circuit’s gradient on both `x` and `y` becomes ` 1 x -4 = -4`. This makes sense: the circuit wants both `x` and `y` to get smaller because this will make `q` smaller, which in turn will make `f` larger.\n",
    "\n",
    "> If this makes sense, you understand backpropagation.\n",
    "\n",
    "Lets recap once again what we learned:\n",
    "\n",
    "* In the previous chapter we saw that in the case of a single gate (or a single expression), we can derive the analytic gradient using simple calculus. We interpreted the gradient as a force, or a tug on the inputs that pulls them in a direction which would make this gate’s output higher.\n",
    "\n",
    "* In case of multiple gates everything stays pretty much the same way: every gate is hanging out by itself completely unaware of the circuit it is embedded in. Some inputs come in and the gate computes its output and the derivate with respect to the inputs. The only difference now is that suddenly, something can pull on this gate from above. That’s the gradient of the final circuit output value with respect to the ouput this gate computed. It is the circuit asking the gate to output higher or lower numbers, and with some force. The gate simply takes this force and multiplies it to all the forces it computed for its inputs before (chain rule). This has the desired effect:\n",
    "\n",
    "    1. If a gate experiences a strong positive pull from above, it will also pull harder on its own inputs, scaled by the force it is experiencing from above\n",
    "    2. And if it experiences a negative tug, this means that circuit wants its value to decrease not increase, so it will flip the force of the pull on its inputs to make its own output value smaller.\n",
    "\n",
    "> A nice picture to have in mind is that as we pull on the circuit’s output value at the end, this induces pulls downward through the entire circuit, all the way down to the inputs.\n",
    "\n",
    "Isn’t it beautiful? The only difference between the case of a single gate and multiple interacting gates that compute arbitrarily complex expressions is this additional multipy operation that now happens in each gate.\n",
    "\n",
    "### Patterns in the “backward” flow\n",
    "\n",
    "Lets look again at our example circuit with the numbers filled in. The first circuit shows the raw values, and the second circuit shows the gradients that flow back to the inputs as discussed. Notice that the gradient always starts off with +1 at the end to start off the chain. This is the (default) pull on the circuit to have its value increased.\n",
    "![](grad_vals.png)\n",
    "\n",
    "After a while you start to notice patterns in how the gradients flow backward in the circuits. For example, the `+` gate always takes the gradient on top and simply passes it on to all of its inputs (notice the example with `-4` simply passed on to both of the inputs of `+` gate). This is because its own derivative for the inputs is just `+1`, regardless of what the actual values of the inputs are, so in the chain rule, the gradient from above is just multiplied by `1` and stays the same. Similar intuitions apply to, for example, a `max(x,y)` gate. Since the gradient of `max(x,y)` with respect to its input is `+1` for whichever one of `x, y` is larger and 0 for the other, this gate is during backprop effectively just a gradient \"switch\": it will take the gradient from above and \"route\" it to the input that had a higher value during the forward pass.\n",
    "\n",
    "__Numerical Gradient Check.__ Before we finish with this section, lets just make sure that the (analytic) gradient we computed by backprop above is correct as a sanity check. Remember that we can do this simply by computing the numerical gradient and making sure that we get `[-4, -4, 3]` for `x,y,z`. Here’s the code:"
   ]
  },
  {
   "cell_type": "code",
   "execution_count": 25,
   "metadata": {
    "collapsed": false
   },
   "outputs": [
    {
     "name": "stdout",
     "output_type": "stream",
     "text": [
      "-3.99999999999 -3.99999999999 3.00000000001 -12.0 -11.9997\n"
     ]
    }
   ],
   "source": [
    "x, y, z = (-2.0, 5.0, -4.0)\n",
    "\n",
    "h = 0.0001\n",
    "\n",
    "x_der = (forwardCircuit(x+h, y, z) - forwardCircuit(x, y, z))/h\n",
    "y_der = (forwardCircuit(x, y+h, z) - forwardCircuit(x, y, z))/h\n",
    "z_der = (forwardCircuit(x, y, z+h) - forwardCircuit(x, y, z))/h\n",
    "\n",
    "print x_der, y_der, z_der, forwardCircuit(x, y, z), forwardCircuit(x, y, z+h)\n"
   ]
  },
  {
   "cell_type": "markdown",
   "metadata": {},
   "source": [
    "\n",
    "### Example: Single Neuron\n",
    "In the previous section you hopefully got the basic intuition behind backpropagation. Lets now look at an even more complicated and borderline practical example. We will consider a 2-dimensional neuron that computes the following function:\n",
    "\n",
    "$$f(x,y,a,b,c) = \\sigma(ax + by + c)$$\n",
    "\n",
    "In this expression, σ is the sigmoid function. Its best thought of as a “squashing function”, because it takes the input and squashes it to be between zero and one: Very negative values are squashed towards zero and positive values get squashed towards one. For example, we have `sig(-5) = 0.006, sig(0) = 0.5, sig(5) = 0.993`. Sigmoid function is defined as:\n",
    "\n",
    "$$\\sigma(x) = \\frac{1}{1+e^{-x}}$$\n",
    "\n",
    "The gradient with respect to its single input, as you can check on Wikipedia or derive yourself if you know some calculus is given by this expression:\n",
    "\n",
    "$$\\frac{\\partial\\sigma(x)}{\\partial x} = \\sigma(x) (1-\\sigma(x))$$\n",
    "\n",
    "For example, if the input to the sigmoid gate is x = 3, the gate will compute output f = 1.0 / (1.0 + Math.exp(-x)) = 0.95, and then the (local) gradient on its input will simply be dx = (0.95) * (1 - 0.95) = 0.0475.\n",
    "\n",
    "That’s all we need to use this gate: we know how to take an input and forward it through the sigmoid gate, and we also have the expression for the gradient with respect to its input, so we can also backprop through it. Another thing to note is that technically, the sigmoid function is made up of an entire series of gates in a line that compute more atomic functions: an exponentiation gate, an addition gate and a division gate. Treating it so would work perfectly fine but for this example I chose to collapse all of these gates into a single gate that just computes sigmoid in one shot, because the gradient expression turns out to be simple.\n",
    "\n",
    "Lets take this opportunity to carefully structure the associated code in a nice and modular way. First, I’d like you to note that every wire in our diagrams has two numbers associated with it:\n",
    "\n",
    "1. the value it carries during the forward pass\n",
    "2. the gradient (i.e the pull) that flows back through it in the backward pass\n",
    "\n",
    "Lets create a simple Unit structure that will store these two values on every wire. Our gates will now operate over Units: they will take them as inputs and create them as outputs."
   ]
  },
  {
   "cell_type": "code",
   "execution_count": 47,
   "metadata": {
    "collapsed": false
   },
   "outputs": [],
   "source": [
    "import math\n",
    "class Unit:\n",
    "    def __init__(self, value, grad):\n",
    "        self.value = value\n",
    "        self.grad = grad\n",
    "\n",
    "class MultiplyGate:\n",
    "    def forward(self, u0, u1):\n",
    "        self.u0 = u0\n",
    "        self.u1 = u1\n",
    "        self.utop = Unit(u0.value * u1.value, 0)\n",
    "        return self.utop\n",
    "    def backward(self):\n",
    "        self.u0.grad += self.u1.value * self.utop.grad\n",
    "        self.u1.grad += self.u0.value * self.utop.grad\n",
    "\n"
   ]
  },
  {
   "cell_type": "markdown",
   "metadata": {},
   "source": [
    "The multiply gate takes two units that each hold a value and creates a unit that stores its output. The gradient is initialized to zero. Then notice that in the backward function call we get the gradient from the output unit we produced during the forward pass (which will by now hopefully have its gradient filled in) and multiply it with the local gradient for this gate (chain rule!). This gate computes multiplication (`u0.value * u1.value`) during forward pass, so recall that the gradient w.r.t `u0` is `u1.value` and w.r.t `u1` is `u0.value`. Also note that we are using `+=` to add onto the gradient in the backward function. This will allow us to possibly use the output of one gate multiple times (think of it as a wire branching out), since it turns out that the gradients from these different branches just add up when computing the final gradient with respect to the circuit output. The other two gates are defined analogously:\n",
    "\n"
   ]
  },
  {
   "cell_type": "code",
   "execution_count": 48,
   "metadata": {
    "collapsed": true
   },
   "outputs": [],
   "source": [
    "class AddGate:\n",
    "    def forward(self, u0, u1):\n",
    "        self.u0 = u0\n",
    "        self.u1 = u1\n",
    "        self.utop = Unit(u0.value + u1.value, 0)\n",
    "        return self.utop\n",
    "    def backward(self):\n",
    "        self.u0.grad += 1 * self.utop.grad\n",
    "        self.u1.grad += 1 * self.utop.grad\n",
    "\n",
    "class SigmoidGate:\n",
    "    def sig(self, x):\n",
    "        return 1.0 / (1.0 + math.exp(-x))\n",
    "    \n",
    "    def forward(self, u0):\n",
    "        self.u0 = u0\n",
    "        self.utop = Unit(self.sig(u0.value), 0.0)\n",
    "        return self.utop\n",
    "    def backward(self):\n",
    "        s = self.sig(self.u0.value)\n",
    "        self.u0.grad += (s*(1-s)) * self.utop.grad\n",
    "        "
   ]
  },
  {
   "cell_type": "markdown",
   "metadata": {},
   "source": [
    "Note that, again, the backward function in all cases just computes the local derivative with respect to its input and then multiplies on the gradient from the unit above (i.e. chain rule). To fully specify everything lets finally write out the forward and backward flow for our 2-dimensional neuron with some example values:"
   ]
  },
  {
   "cell_type": "code",
   "execution_count": 49,
   "metadata": {
    "collapsed": false
   },
   "outputs": [
    {
     "name": "stdout",
     "output_type": "stream",
     "text": [
      "0.880797077978\n"
     ]
    }
   ],
   "source": [
    "a = Unit(1.0,0.0)\n",
    "b = Unit(2.0, 0.0)\n",
    "c = Unit(-3.0, 0.0)\n",
    "x = Unit(-1.0, 0.0)\n",
    "y = Unit(3.0, 0.0)\n",
    "\n",
    "\n",
    "mulg0 = MultiplyGate()\n",
    "mulg1 = MultiplyGate()\n",
    "addg0 = AddGate()\n",
    "addg1 = AddGate()\n",
    "sg0 = SigmoidGate()\n",
    "\n",
    "def forwardNeuron():\n",
    "    ax = mulg0.forward(a,x)\n",
    "    by = mulg1.forward(b,y)\n",
    "    axpby = addg0.forward(ax,by)\n",
    "    axpbypc = addg1.forward(axpby, c)\n",
    "    s = sg0.forward(axpbypc)\n",
    "    return s\n",
    "\n",
    "out = forwardNeuron()\n",
    "print out.value"
   ]
  },
  {
   "cell_type": "markdown",
   "metadata": {},
   "source": [
    "And now lets compute the gradient: Simply iterate in reverse order and call the `backward` function! Remember that we stored the pointers to the units when we did the forward pass, so every gate has access to its inputs and also the output unit it previously produced."
   ]
  },
  {
   "cell_type": "code",
   "execution_count": 50,
   "metadata": {
    "collapsed": true
   },
   "outputs": [],
   "source": [
    "out.grad = 1.0\n",
    "sg0.backward() # writes gradient into axpbypc\n",
    "addg1.backward()# writes gradients into axpby and c\n",
    "addg0.backward()# writes gradients into ax and by\n",
    "mulg1.backward()# writes gradients into b and y\n",
    "mulg0.backward()# writes gradients into a and x\n",
    "\n"
   ]
  },
  {
   "cell_type": "markdown",
   "metadata": {},
   "source": [
    "Note that the first line sets the gradient at the output (very last unit) to be 1.0 to start off the gradient chain. This can be interpreted as tugging on the last gate with a force of +1. In other words, we are pulling on the entire circuit to induce the forces that will increase the output value. If we did not set this to 1, all gradients would be computed as zero due to the multiplications in the chain rule. Finally, lets make the inputs respond to the computed gradients and check that the function increased:"
   ]
  },
  {
   "cell_type": "code",
   "execution_count": 51,
   "metadata": {
    "collapsed": false
   },
   "outputs": [
    {
     "name": "stdout",
     "output_type": "stream",
     "text": [
      "0.882550181622\n"
     ]
    }
   ],
   "source": [
    "step_size = 0.01\n",
    "a.value += step_size * a.grad\n",
    "b.value += step_size * b.grad\n",
    "c.value += step_size * c.grad\n",
    "x.value += step_size * x.grad\n",
    "y.value += step_size * y.grad\n",
    "\n",
    "out = forwardNeuron()\n",
    "print out.value"
   ]
  },
  {
   "cell_type": "markdown",
   "metadata": {},
   "source": [
    "Success! 0.8825 is higher than the previous value, 0.8808. Finally, lets verify that we implemented the backpropagation correctly by checking the numerical gradient:"
   ]
  },
  {
   "cell_type": "code",
   "execution_count": 52,
   "metadata": {
    "collapsed": false
   },
   "outputs": [
    {
     "name": "stdout",
     "output_type": "stream",
     "text": [
      "-0.104997583592 0.314944774835 0.104989587345 0.104989587345 0.209971178827\n"
     ]
    }
   ],
   "source": [
    "def forwardCircuitFast(a,b,c,x,y): \n",
    "    return 1/(1 + math.exp( - (a*x + b*y + c)))\n",
    "\n",
    "a, b, c, x, y = (1, 2, -3, -1, 3)\n",
    "h = 0.0001\n",
    "a_grad = (forwardCircuitFast(a+h,b,c,x,y) - forwardCircuitFast(a,b,c,x,y))/h;\n",
    "b_grad = (forwardCircuitFast(a,b+h,c,x,y) - forwardCircuitFast(a,b,c,x,y))/h;\n",
    "c_grad = (forwardCircuitFast(a,b,c+h,x,y) - forwardCircuitFast(a,b,c,x,y))/h;\n",
    "x_grad = (forwardCircuitFast(a,b,c,x+h,y) - forwardCircuitFast(a,b,c,x,y))/h;\n",
    "y_grad = (forwardCircuitFast(a,b,c,x,y+h) - forwardCircuitFast(a,b,c,x,y))/h;\n",
    "\n",
    "print a_grad, b_grad, c_grad, x_grad, y_grad\n"
   ]
  },
  {
   "cell_type": "markdown",
   "metadata": {},
   "source": [
    "Indeed, these all give the same values as the backpropagated gradients `[-0.105, 0.315, 0.105, 0.105, 0.210]`. Nice!\n",
    "\n",
    "I hope it is clear that even though we only looked at an example of a single neuron, the code I gave above generalizes in a very straight-forward way to compute gradients of arbitrary expressions (including very deep expressions #foreshadowing). All you have to do is write small gates that compute local, simple derivatives w.r.t their inputs, wire it up in a graph, do a forward pass to compute the output value and then a backward pass that chains the gradients all the way to the input.\n",
    "\n",
    "### Becoming a Backprop Ninja\n",
    "\n",
    "Over time you will become much more efficient in writing the backward pass, even for complicated circuits and all at once. Lets practice backprop a bit with a few examples. In what follows, lets not worry about Unit, Circuit classes because they obfuscate things a bit, and lets just use variables such as a,b,c,x, and refer to their gradients as da,db,dc,dx respectively. Again, we think of the variables as the “forward flow” and their gradients as “backward flow” along every wire. Our first example was the `*` gate:"
   ]
  },
  {
   "cell_type": "code",
   "execution_count": 33,
   "metadata": {
    "collapsed": false
   },
   "outputs": [],
   "source": [
    "x  = a * b\n",
    "da = b * dx\n",
    "db = a * dx"
   ]
  },
  {
   "cell_type": "markdown",
   "metadata": {},
   "source": [
    "In the code above, I’m assuming that the variable dx is given, coming from somewhere above us in the circuit while we’re doing backprop (or it is +1 by default otherwise). I’m writing it out because I want to explicitly show how the gradients get chained together. Note from the equations that the `*` gate acts as a switcher during backward pass, for lack of better word. It remembers what its inputs were, and the gradients on each one will be the value of the other during the forward pass. And then of course we have to multiply with the gradient from above, which is the chain rule. Here’s the `+` gate in this condensed form:"
   ]
  },
  {
   "cell_type": "code",
   "execution_count": 34,
   "metadata": {
    "collapsed": false
   },
   "outputs": [],
   "source": [
    "x = a + b\n",
    "da = 1.0 * dx\n",
    "db = 1.0 * dx"
   ]
  },
  {
   "cell_type": "markdown",
   "metadata": {},
   "source": [
    "Where 1.0 is the local gradient, and the multiplication is our chain rule. What about adding three numbers?:"
   ]
  },
  {
   "cell_type": "code",
   "execution_count": 35,
   "metadata": {
    "collapsed": false
   },
   "outputs": [],
   "source": [
    "# lets compute x = a + b + c in two steps:\n",
    "q = a + b # gate 1\n",
    "x = q + c # gate 2\n",
    "\n",
    "# backward pass:\n",
    "dc = 1.0 * dx # backprop gate 2\n",
    "dq = 1.0 * dx \n",
    "da = 1.0 * dq # backprop gate 1\n",
    "db = 1.0 * dq"
   ]
  },
  {
   "cell_type": "markdown",
   "metadata": {},
   "source": [
    "You can see what’s happening, right? If you remember the backward flow diagram, the + gate simply takes the gradient on top and routes it equally to all of its inputs (because its local gradient is always simply 1.0 for all its inputs, regardless of their actual values). So we can do it much faster:"
   ]
  },
  {
   "cell_type": "code",
   "execution_count": 36,
   "metadata": {
    "collapsed": false
   },
   "outputs": [],
   "source": [
    "x = a + b + c\n",
    "da = 1.0 * dx\n",
    "db = 1.0 * dx\n",
    "dc = 1.0 * dx"
   ]
  },
  {
   "cell_type": "markdown",
   "metadata": {},
   "source": [
    "Okay, how about combining gates?:"
   ]
  },
  {
   "cell_type": "code",
   "execution_count": 37,
   "metadata": {
    "collapsed": false
   },
   "outputs": [],
   "source": [
    "x = a * b + c\n",
    "# given dx, backdrop in one-sweep would be =>\n",
    "da = b * dx\n",
    "db = a * dx\n",
    "dc = 1.0 * dx"
   ]
  },
  {
   "cell_type": "markdown",
   "metadata": {},
   "source": [
    "If you don’t see how the above happened, introduce a temporary variable `q = a * b` and then compute `x = q + c` to convince yourself. And here is our neuron, lets do it in two steps:"
   ]
  },
  {
   "cell_type": "code",
   "execution_count": 38,
   "metadata": {
    "collapsed": false
   },
   "outputs": [],
   "source": [
    "q = a * x + b * y + c\n",
    "f = sig(q)\n",
    "df = 1\n",
    "dq = (f * (1-f))* df\n",
    "da = x * dq\n",
    "dx = a * dq\n",
    "dy = b * dq\n",
    "db = y * dq\n",
    "dc = 1.0 * dq"
   ]
  },
  {
   "cell_type": "markdown",
   "metadata": {},
   "source": [
    "I hope this is starting to make a little more sense. Now how about this:"
   ]
  },
  {
   "cell_type": "code",
   "execution_count": 39,
   "metadata": {
    "collapsed": false
   },
   "outputs": [],
   "source": [
    "x = a * a\n",
    "da = 2 * a * dx #?"
   ]
  },
  {
   "cell_type": "markdown",
   "metadata": {},
   "source": [
    "\n",
    "You can think of this as value `a` flowing to the `*` gate, but the wire gets split and becomes both inputs. This is actually simple because the backward flow of gradients always adds up. In other words nothing changes:"
   ]
  },
  {
   "cell_type": "code",
   "execution_count": 40,
   "metadata": {
    "collapsed": false
   },
   "outputs": [],
   "source": [
    "da = a * dx #gradient into a from first branch\n",
    "da += a* dx #and add on the gradient from the second branch\n",
    "\n",
    "#short form instead is:\n",
    "da = 2 * a * dx"
   ]
  },
  {
   "cell_type": "markdown",
   "metadata": {},
   "source": [
    "In fact, if you know your power rule from calculus you would also know that if you have $f(a) = a^2$ then $\\frac{\\partial f(a)}{\\partial a} = 2a$, which is exactly what we get if we think of it as wire splitting up and being two inputs to a gate. \n",
    "\n",
    "Let's do another one:"
   ]
  },
  {
   "cell_type": "code",
   "execution_count": 41,
   "metadata": {
    "collapsed": false
   },
   "outputs": [],
   "source": [
    "x = a*a + b*b + c*c\n",
    "# we get:\n",
    "da = 2 * a * dx\n",
    "db = 2 * b * dx\n",
    "dc = 2 * c * dx\n"
   ]
  },
  {
   "cell_type": "markdown",
   "metadata": {},
   "source": [
    "Okay now let's start to get more complex:"
   ]
  },
  {
   "cell_type": "markdown",
   "metadata": {},
   "source": [
    "When more complex cases like this come up in practice, I like to split the expression into manageable chunks which are almost always composed of simpler expressions and then I chain them together with chain rule:"
   ]
  },
  {
   "cell_type": "code",
   "execution_count": 42,
   "metadata": {
    "collapsed": false
   },
   "outputs": [],
   "source": [
    "x1 = a * b + c\n",
    "x2 = x1 * d\n",
    "x  = x2 * x2 # this is identical to the above expression for x \n",
    "# and now in backprop we go backwards:\n",
    "\n",
    "dx2 = 2 * x2 * dx #backprop into x2\n",
    "dd = x1 * dx2 # backprop into d\n",
    "dx1 = d * dx2 # backprop into x1\n",
    "da = b * dx1\n",
    "db = a * dx1\n",
    "\n",
    "dc = 1.0 * dx1\n"
   ]
  },
  {
   "cell_type": "markdown",
   "metadata": {},
   "source": [
    "That wasn’t too difficult! Those are the backprop equations for the entire expression, and we’ve done them piece by piece and backpropped to all the variables. Notice again how for every variable during forward pass we have an equivalent variable during backward pass that contains its gradient with respect to the circuit’s final output. Here are a few more useful functions and their local gradients that are useful in practice:"
   ]
  },
  {
   "cell_type": "code",
   "execution_count": 43,
   "metadata": {
    "collapsed": false
   },
   "outputs": [],
   "source": [
    "x = 1.0 / a\n",
    "da = -1.0 / (a * a)\n"
   ]
  },
  {
   "cell_type": "markdown",
   "metadata": {},
   "source": [
    "Here’s what division might look like in practice then:"
   ]
  },
  {
   "cell_type": "code",
   "execution_count": 44,
   "metadata": {
    "collapsed": false
   },
   "outputs": [],
   "source": [
    "x = (a + b)/ (c + d)\n",
    "\n",
    "# lets decompose it in steps:\n",
    "\n",
    "x1 = a + b\n",
    "x2 = c + d\n",
    "x3 = 1.0/x2\n",
    "x = x1 * x3 #equivalent to above\n",
    "\n",
    "#and now backprop, again in reverse order:\n",
    "dx1 = x3 * dx\n",
    "dx3 = x1 * dx\n",
    "dx2 = (-1.0 / (x2 * x2)) * dx3 #local gradient as shown above, and chain rule\n",
    "da = 1.0 * dx1\n",
    "db = 1.0 * dx1\n",
    "dc = 1.0 * dx2\n",
    "dd = 1.0 * dx2\n"
   ]
  },
  {
   "cell_type": "markdown",
   "metadata": {
    "collapsed": true
   },
   "source": [
    "Hopefully you see that we are breaking down expressions, doing the forward pass, and then for every variable (such as a) we derive its gradient da as we go backwards, one by one, applying the simple local gradients and chaining them with gradients from above. Here’s another one:"
   ]
  },
  {
   "cell_type": "code",
   "execution_count": 46,
   "metadata": {
    "collapsed": false
   },
   "outputs": [],
   "source": [
    "x = max(a,b)\n",
    "da = 0.0\n",
    "if a == x:\n",
    "    da = 1.0 * dx\n",
    "if b == x:\n",
    "    da = 1.0 * dx\n",
    "    "
   ]
  },
  {
   "cell_type": "markdown",
   "metadata": {
    "collapsed": true
   },
   "source": [
    "Okay this is making a very simple thing hard to read. The max function passes on the value of the input that was largest and ignores the other ones. In the backward pass then, the max gate will simply take the gradient on top and route it to the input that actually flowed through it during the forward pass. The gate acts as a simple switch based on which input had the highest value during forward pass. The other inputs will have zero gradient. That’s what the `==` is about, since we are testing for which input was the actual max and only routing the gradient to it.\n",
    "\n",
    "Finally, lets look at the Rectified Linear Unit non-linearity (or ReLU), which you may have heard of. It is used in Neural Networks in place of the sigmoid function. It is simply thresholding at zero:"
   ]
  },
  {
   "cell_type": "code",
   "execution_count": null,
   "metadata": {
    "collapsed": true
   },
   "outputs": [],
   "source": [
    "x = max(a, 0) #backprop through this gate will then be:\n",
    "da = 0.0\n",
    "if a > 0:\n",
    "    da = 1.0 * dx\n",
    "\n",
    "\n"
   ]
  },
  {
   "cell_type": "markdown",
   "metadata": {
    "collapsed": true
   },
   "source": [
    "In other words this gate simply passes the value through if it’s larger than 0, or it stops the flow and sets it to zero. In the backward pass, the gate will pass on the gradient from the top if it was activated during the forawrd pass, or if the original input was below zero, it will stop the gradient flow.\n",
    "\n",
    "I will stop at this point. I hope you got some intuition about how you can compute entire expressions (which are made up of many gates along the way) and how you can compute backprop for every one of them.\n",
    "\n",
    "Everything we’ve done in this chapter comes down to this: We saw that we can feed some input through arbitrarily complex real-valued circuit, tug at the end of the circuit with some force, and backpropagation distributes that tug through the entire circuit all the way back to the inputs. If the inputs respond slightly along the final direction of their tug, the circuit will “give” a bit along the original pull direction. Maybe this is not immediately obvious, but this machinery is a powerful hammer for Machine Learning.\n",
    "> “Maybe this is not immediately obvious, but this machinery is a powerful hammer for Machine Learning.”\n",
    "\n",
    "Lets now put this machinery to good use.\n",
    "\n",
    "## Chapter 2: Machine Learning\n",
    "\n",
    "In the last chapter we were concerned with real-valued circuits that computed possibly complex expressions of their inputs (the forward pass), and also we could compute the gradients of these expressions on the original inputs (backward pass). In this chapter we will see how useful this extremely simple mechanism is in Machine Learning.\n",
    "### Binary Classification\n",
    "\n",
    "As we did before, lets start out simple. The simplest, common and yet very practical problem in Machine Learning is binary classification. A lot of very interesting and important problems can be reduced to it. The setup is as follows: We are given a dataset of N vectors and every one of them is labeled with a +1 or a -1. For example, in two dimensions our dataset could look as simple as:"
   ]
  },
  {
   "cell_type": "code",
   "execution_count": 3,
   "metadata": {
    "collapsed": true
   },
   "outputs": [],
   "source": [
    "data = [[ 1.2,  0.7],\n",
    " [-0.3,  0.5],\n",
    " [-3.0, -1.0],\n",
    " [ 0.1,  1.0],\n",
    " [ 3.0,  1.1],\n",
    " [ 2.1, -3.0]]\n",
    "\n",
    "labels =[1,-1, 1, -1, -1, 1]"
   ]
  },
  {
   "cell_type": "markdown",
   "metadata": {
    "collapsed": true
   },
   "source": [
    "Here, we have N = 6 datapoints, where every datapoint has two features (D = 2). Three of the datapoints have label +1 and the other three label -1. This is a silly toy example, but in practice a +1/-1 dataset could be very useful things indeed: For example spam/no spam emails, where the vectors somehow measure various features of the content of the email, such as the number of times certain enhancement drugs are mentioned.\n",
    "\n",
    "Goal. Our goal in binary classification is to learn a function that takes a 2-dimensional vector and predicts the label. This function is usually parameterized by a certain set of parameters, and we will want to tune the parameters of the function so that its outputs are consistent with the labeling in the provided dataset. In the end we can discard the dataset and use the learned parameters to predict labels for previously unseen vectors.\n",
    "\n",
    "#### Training protocol\n",
    "\n",
    "We will eventually build up to entire neural networks and complex expressions, but lets start out simple and train a linear classifier very similar to the single neuron we saw at the end of Chapter 1. The only difference is that we’ll get rid of the sigmoid because it makes things unnecessarily complicated (I only used it as an example in Chapter 1 because sigmoid neurons are historically popular but modern Neural Networks rarely, if ever, use sigmoid non-linearities). Anyway, lets use a simple linear function:\n",
    "\n",
    "$$f(x,y) = ax + by + c$$\n",
    "\n",
    "In this expression we think of x and y as the inputs (the 2D vectors) and `a,b,c` as the parameters of the function that we will want to learn. For example, if `a = 1, b = -2, c = -1`, then the function will take the first datapoint (`[1.2, 0.7]`) and output `1 * 1.2 + (-2) * 0.7 + (-1) = -1.2`. Here is how the training will work:\n",
    "\n",
    "\n",
    "1. We select a random datapoint and feed it through the circuit\n",
    "2. We will interpret the output of the circuit as a confidence that the datapoint has class `+1`. (i.e. very high values = circuit is very certain datapoint has class `+1` and very low values = circuit is certain this datapoint has class `-1`.)\n",
    "3. We will measure how well the prediction aligns with the provided labels. Intuitively, for example, if a positive example scores very low, we will want to tug in the positive direction on the circuit, demanding that it should output higher value for this datapoint. Note that this is the case for the the first datapoint: it is labeled as `+1` but our predictor unction only assigns it value `-1.2`. We will therefore tug on the circuit in positive direction; We want the value to be higher.\n",
    "4. The circuit will take the tug and backpropagate it to compute tugs on the inputs `a,b,c,x,y`\n",
    "5. Since we think of `x,y` as (fixed) datapoints, we will ignore the pull on x,y. If you’re a fan of my physical analogies, think of these inputs as pegs, fixed in the ground.\n",
    "6. On the other hand, we will take the parameters `a,b,c` and make them respond to their tug (i.e. we’ll perform what we call a parameter update). This, of course, will make it so that the circuit will output a slightly higher score on this particular datapoint in the future.\n",
    "7. Iterate! Go back to step 1.\n",
    "\n",
    "The training scheme I described above, is commonly referred as Stochastic Gradient Descent. The interesting part I’d like to reiterate is that a,b,c,x,y are all made up of the same stuff as far as the circuit is concerned: They are inputs to the circuit and the circuit will tug on all of them in some direction. It doesn’t know the difference between parameters and datapoints. However, after the backward pass is complete we ignore all tugs on the datapoints (x,y) and keep swapping them in and out as we iterate over examples in the dataset. On the other hand, we keep the parameters (a,b,c) around and keep tugging on them every time we sample a datapoint. Over time, the pulls on these parameters will tune these values in such a way that the function outputs high scores for positive examples and low scores for negative examples.\n",
    "\n",
    "#### Learning a Support Vector Machine\n",
    "\n",
    "As a concrete example, lets learn a Support Vector Machine. The SVM is a very popular linear classifier; Its functional form is exactly as I’ve described in previous section, $f(x,y)=ax+by+c$\n",
    "\n",
    "At this point, if you’ve seen an explanation of SVMs you’re probably expecting me to define the SVM loss function and plunge into an explanation of slack variables, geometrical intuitions of large margins, kernels, duality, etc. But here, I’d like to take a different approach. Instead of definining loss functions, I would like to base the explanation on the force specification (I just made this term up by the way) of a Support Vector Machine, which I personally find much more intuitive. As we will see, talking about the force specification and the loss function are identical ways of seeing the same problem. Anyway, here it is:\n",
    "\n",
    "Support Vector Machine “Force Specification”:\n",
    "\n",
    "* If we feed a positive datapoint through the SVM circuit and the output value is less than `1`, pull on the circuit with force `+1`. This is a positive example so we want the score to be higher for it.\n",
    "* Conversely, if we feed a negative datapoint through the SVM and the output is greater than `-1`, then the circuit is giving this datapoint dangerously high score: Pull on the circuit downwards with force `-1`.\n",
    "* In addition to the pulls above, always add a small amount of pull on the parameters a,b (notice, not on c!) that pulls them towards zero. You can think of both `a,b` as being attached to a physical spring that is attached at zero. Just as with a physical spring, this will make the pull proprotional to the value of each of `a,b` (Hooke’s law in physics, anyone?). For example, if a becomes very high it will experience a strong pull of magnitude $|a|$ back towards zero. This pull is something we call regularization, and it ensures that neither of our parameters `a` or `b` gets disproportionally large. This would be undesirable because both `a,b` get multiplied to the input features `x,y` (remember the equation is `a*x + b*y + c`), so if either of them is too high, our classifier would be overly sensitive to these features. This isn’t a nice property because features can often be noisy in practice, so we want our classifier to change relatively smoothly if they wiggle around.\n",
    "\n",
    "Lets quickly go through a small but concrete example. Suppose we start out with a random parameter setting, say, `a = 1, b = -2, c = -1`. Then:\n",
    "\n",
    "1. If we feed the point `[1.2, 0.7]`, the SVM will compute score `1 * 1.2 + (-2) * 0.7 - 1 = -1.2`. This point is labeled as `+1` in the training data, so we want the score to be higher than `1`. The gradient on top of the circuit will thus be positive: `+1`, which will backpropagate to `a,b,c`. Additionally, there will also be a regularization pull on `a` of `-1` (to make it smaller) and regularization pull on `b` of `+2` to make it larger, toward zero.\n",
    "2. Suppose instead that we fed the datapoint `[-0.3, 0.5]` to the SVM. It computes `1 * (-0.3) + (-2) * 0.5 - 1 = -2.3`. The label for this point is `-1`, and since `-2.3` is smaller than `-1`, we see that according to our force specification the SVM should be happy: The computed score is very negative, consistent with the negative label of this example. There will be no pull at the end of the circuit (i.e it’s zero), since there no changes are necessary. However, there will still be the regularization pull on `a` of `-1` and on `b` of `+2`.\n",
    "\n",
    "Okay there’s been too much text. Lets write the SVM code and take advantage of the circuit machinery we have from Chapter 1:"
   ]
  },
  {
   "cell_type": "code",
   "execution_count": 4,
   "metadata": {
    "collapsed": true
   },
   "outputs": [],
   "source": [
    "\n",
    "class Circuit:\n",
    "    def __init__(self):\n",
    "        self.mulg0 = MultiplyGate()\n",
    "        self.mulg1 = MultiplyGate()\n",
    "        self.addg0 = AddGate()\n",
    "        self.addg1 = AddGate()\n",
    "    \n",
    "    def forward(self, x, y, a, b, c):\n",
    "        self.ax = self.mulg0.forward(a, x)\n",
    "        self.by = self.mulg1.forward(b, y)\n",
    "        self.axpby = self.addg0.forward(self.ax, self.by)\n",
    "        self.axpbypc = self.addg1.forward(self.axpby, c)\n",
    "        return self.axpbypc\n",
    "    \n",
    "    def backward(self, gradient_top):\n",
    "        self.axpbypc.grad = gradient_top\n",
    "        self.addg1.backward()\n",
    "        self.addg0.backward()\n",
    "        self.mulg1.backward()\n",
    "        self.mulg0.backward()\n",
    "class SVM:\n",
    "    def __init__(self):\n",
    "        self.a = Unit(1.0, 0.0)\n",
    "        self.b = Unit(-2.0, 0.0)\n",
    "        self.c = Unit(-1.0, 0.0)\n",
    "        self.circuit = Circuit()\n",
    "        \n",
    "    def forward(self, x, y):\n",
    "        self.unit_out = self.circuit.forward(x, y, self.a, self.b, self.c)\n",
    "        return self.unit_out\n",
    "        \n",
    "    def backward(self, label):\n",
    "        self.a.grad = 0.0\n",
    "        self.b.grad = 0.0\n",
    "        self.c.grad = 0.0\n",
    "        \n",
    "        pull = 0.0\n",
    "        \n",
    "        if label == 1 and self.unit_out.value < 1:\n",
    "            pull = 1\n",
    "        \n",
    "        if label == -1 and self.unit_out.value > -1:\n",
    "            pull = -1\n",
    "        \n",
    "        self.circuit.backward(pull)\n",
    "        self.a.grad += - self.a.value\n",
    "        self.b.grad += - self.b.value\n",
    "    \n",
    "    def learnFrom(self, x, y, label):\n",
    "        self.forward(x, y)\n",
    "        self.backward(label)\n",
    "        self.parameterUpdate()\n",
    "    \n",
    "    def parameterUpdate(self):\n",
    "        step_size = 0.01\n",
    "        self.a.value += step_size * self.a.grad\n",
    "        self.b.value += step_size * self.b.grad\n",
    "        self.c.value += step_size * self.c.grad\n",
    "        "
   ]
  },
  {
   "cell_type": "markdown",
   "metadata": {
    "collapsed": true
   },
   "source": [
    "Now lets train the SVM with Stochastic Gradient Descent:"
   ]
  },
  {
   "cell_type": "code",
   "execution_count": 5,
   "metadata": {
    "collapsed": false
   },
   "outputs": [
    {
     "ename": "NameError",
     "evalue": "global name 'Unit' is not defined",
     "output_type": "error",
     "traceback": [
      "\u001b[0;31m---------------------------------------------------------------------------\u001b[0m",
      "\u001b[0;31mNameError\u001b[0m                                 Traceback (most recent call last)",
      "\u001b[0;32m<ipython-input-5-c479ee45ca9a>\u001b[0m in \u001b[0;36m<module>\u001b[0;34m()\u001b[0m\n\u001b[0;32m----> 1\u001b[0;31m \u001b[0msvm\u001b[0m \u001b[1;33m=\u001b[0m \u001b[0mSVM\u001b[0m\u001b[1;33m(\u001b[0m\u001b[1;33m)\u001b[0m\u001b[1;33m\u001b[0m\u001b[0m\n\u001b[0m\u001b[1;32m      2\u001b[0m \u001b[1;32mdef\u001b[0m \u001b[0mevalTrainingAccuracy\u001b[0m\u001b[1;33m(\u001b[0m\u001b[1;33m)\u001b[0m\u001b[1;33m:\u001b[0m\u001b[1;33m\u001b[0m\u001b[0m\n\u001b[1;32m      3\u001b[0m     \u001b[0mnum_correct\u001b[0m \u001b[1;33m=\u001b[0m \u001b[1;36m0\u001b[0m\u001b[1;33m\u001b[0m\u001b[0m\n\u001b[1;32m      4\u001b[0m     \u001b[0mpred_label\u001b[0m \u001b[1;33m=\u001b[0m \u001b[1;33m[\u001b[0m\u001b[1;33m]\u001b[0m\u001b[1;33m\u001b[0m\u001b[0m\n\u001b[1;32m      5\u001b[0m     \u001b[1;32mfor\u001b[0m \u001b[0mi\u001b[0m \u001b[1;32min\u001b[0m \u001b[0mrange\u001b[0m\u001b[1;33m(\u001b[0m\u001b[1;36m0\u001b[0m\u001b[1;33m,\u001b[0m \u001b[0mlen\u001b[0m\u001b[1;33m(\u001b[0m\u001b[0mdata\u001b[0m\u001b[1;33m)\u001b[0m\u001b[1;33m)\u001b[0m\u001b[1;33m:\u001b[0m\u001b[1;33m\u001b[0m\u001b[0m\n",
      "\u001b[0;32m<ipython-input-4-6934ba0e9d86>\u001b[0m in \u001b[0;36m__init__\u001b[0;34m(self)\u001b[0m\n\u001b[1;32m     22\u001b[0m \u001b[1;32mclass\u001b[0m \u001b[0mSVM\u001b[0m\u001b[1;33m:\u001b[0m\u001b[1;33m\u001b[0m\u001b[0m\n\u001b[1;32m     23\u001b[0m     \u001b[1;32mdef\u001b[0m \u001b[0m__init__\u001b[0m\u001b[1;33m(\u001b[0m\u001b[0mself\u001b[0m\u001b[1;33m)\u001b[0m\u001b[1;33m:\u001b[0m\u001b[1;33m\u001b[0m\u001b[0m\n\u001b[0;32m---> 24\u001b[0;31m         \u001b[0mself\u001b[0m\u001b[1;33m.\u001b[0m\u001b[0ma\u001b[0m \u001b[1;33m=\u001b[0m \u001b[0mUnit\u001b[0m\u001b[1;33m(\u001b[0m\u001b[1;36m1.0\u001b[0m\u001b[1;33m,\u001b[0m \u001b[1;36m0.0\u001b[0m\u001b[1;33m)\u001b[0m\u001b[1;33m\u001b[0m\u001b[0m\n\u001b[0m\u001b[1;32m     25\u001b[0m         \u001b[0mself\u001b[0m\u001b[1;33m.\u001b[0m\u001b[0mb\u001b[0m \u001b[1;33m=\u001b[0m \u001b[0mUnit\u001b[0m\u001b[1;33m(\u001b[0m\u001b[1;33m-\u001b[0m\u001b[1;36m2.0\u001b[0m\u001b[1;33m,\u001b[0m \u001b[1;36m0.0\u001b[0m\u001b[1;33m)\u001b[0m\u001b[1;33m\u001b[0m\u001b[0m\n\u001b[1;32m     26\u001b[0m         \u001b[0mself\u001b[0m\u001b[1;33m.\u001b[0m\u001b[0mc\u001b[0m \u001b[1;33m=\u001b[0m \u001b[0mUnit\u001b[0m\u001b[1;33m(\u001b[0m\u001b[1;33m-\u001b[0m\u001b[1;36m1.0\u001b[0m\u001b[1;33m,\u001b[0m \u001b[1;36m0.0\u001b[0m\u001b[1;33m)\u001b[0m\u001b[1;33m\u001b[0m\u001b[0m\n",
      "\u001b[0;31mNameError\u001b[0m: global name 'Unit' is not defined"
     ]
    }
   ],
   "source": [
    "svm = SVM()\n",
    "def evalTrainingAccuracy():\n",
    "    num_correct = 0\n",
    "    pred_label = []\n",
    "    for i in range(0, len(data)):\n",
    "        x = Unit(data[i][0], 0.0)\n",
    "        y = Unit(data[i][1], 0.0)\n",
    "        true_label = labels[i]\n",
    "        svm_val = svm.forward(x, y).value\n",
    "        #print svm_val\n",
    "        \n",
    "        if svm_val > 0:\n",
    "            predicted_label = 1\n",
    "        else:\n",
    "            predicted_label = -1\n",
    "        pred_label.append(predicted_label)\n",
    "        if predicted_label == true_label:\n",
    "            num_correct += 1\n",
    "    return num_correct * 1.0 / len(data)\n",
    "\n",
    "for iter in range(0, 400):\n",
    "    i = int(math.floor(random.random() * len(data)))\n",
    "    x = Unit(data[i][0], 0.0)\n",
    "    y = Unit(data[i][1], 0.0)\n",
    "    label = labels[i]\n",
    "    svm.learnFrom(x, y, label)\n",
    "    \n",
    "    if iter % 25 == 0:\n",
    "        print iter, form(svm.a.value), form(svm.b.value), form(svm.c.value), form(evalTrainingAccuracy())\n",
    "print iter, form(svm.a.value), form(svm.b.value), form(svm.c.value), form(evalTrainingAccuracy())"
   ]
  },
  {
   "cell_type": "markdown",
   "metadata": {
    "collapsed": true
   },
   "source": [
    "We see that initially our classifier only had 33% training accuracy, but by the end all training examples are correctly classifier as the parameters a,b,c adjusted their values according to the pulls we exerted. We just trained an SVM! But please don’t use this code anywhere in production :) We will see how we can make things much more efficient once we understand what is going on at the core.\n",
    "\n",
    "Number of iterations needed. With this example data, with this example initialization, and with the setting of step size we used, it took about 300 iterations to train the SVM. In practice, this could be many more or many less depending on how hard or large the problem is, how you’re initializating, normalizing your data, what step size you’re using, and so on. This is just a toy demonstration, but later we will go over all the best practices for actually training these classifiers in practice. For example, it will turn out that the setting of the step size is very imporant and tricky. Small step size will make your model slow to train. Large step size will train faster, but if it is too large, it will make your classifier chaotically jump around and not converge to a good final result. We will eventually use witheld validation data to properly tune it to be just in the sweet spot for your particular data.\n",
    "\n",
    "One thing I’d like you to appreciate is that the circuit can be arbitrary expression, not just the linear prediction function we used in this example. For example, it can be an entire neural network.\n",
    "\n",
    "By the way, I intentionally structured the code in a modular way, but we could have trained an SVM with a much simpler code. Here is really what all of these classes and computations boil down to:"
   ]
  },
  {
   "cell_type": "code",
   "execution_count": 16,
   "metadata": {
    "collapsed": false
   },
   "outputs": [
    {
     "name": "stdout",
     "output_type": "stream",
     "text": [
      "0 0.96 -1.99 -1.01 0.67\n",
      "25 0.49 -1.63 -0.95 0.67\n",
      "50 0.26 -1.29 -0.84 0.67\n",
      "75 0.12 -1.02 -0.74 0.67\n",
      "100 0.09 -0.78 -0.64 0.67\n",
      "125 0.09 -0.61 -0.62 0.67\n",
      "150 -0.11 -0.60 -0.58 0.83\n",
      "175 -0.14 -0.58 -0.57 0.83\n",
      "200 -0.06 -0.54 -0.47 0.83\n",
      "225 -0.05 -0.53 -0.48 0.83\n",
      "250 0.04 -0.48 -0.43 0.67\n",
      "275 -0.08 -0.51 -0.48 0.83\n",
      "300 -0.10 -0.56 -0.46 0.83\n",
      "325 -0.12 -0.53 -0.39 0.83\n",
      "350 -0.09 -0.46 -0.34 0.83\n",
      "375 -0.13 -0.49 -0.34 0.83\n",
      "399 -0.05 -0.52 -0.36 0.83\n"
     ]
    }
   ],
   "source": [
    "a = 1\n",
    "b = -2\n",
    "c = -1\n",
    "def form(a):\n",
    "    return \"{:0.2f}\".format(a)\n",
    "\n",
    "def acc(dat, labels, wts):\n",
    "    correct = 0\n",
    "    for i in range(0,len(dat)):\n",
    "        x, y = (dat[i][0], dat[i][1])\n",
    "        score = wts[0]*x+wts[1]*y+wts[2]\n",
    "        #print i, ' ', score, ' ', labels[i]\n",
    "        if score < 0 and labels[i] == -1:\n",
    "            correct +=1\n",
    "        if score > 0 and labels[i] == 1:\n",
    "            correct += 1\n",
    "        #print score, labels[i]\n",
    "    return correct * 1.0 / len(dat)\n",
    "# initial parameters\n",
    "rand_check = [0] * len(data)\n",
    "for iter in range( 0,400):\n",
    "    \n",
    "    i = int(math.floor(random.random() * len(data)))\n",
    "    rand_check[i] += 1\n",
    "    x = data[i][0];\n",
    "    y = data[i][1];\n",
    "    label = labels[i];\n",
    "\n",
    "    # compute pull\n",
    "    score = a*x + b*y + c;\n",
    "    pull = 0.0;\n",
    "    if label == 1 and score < 1:\n",
    "        pull = 1;\n",
    "    if label == -1 and score > -1: \n",
    "        pull = -1;\n",
    "\n",
    "    #compute gradient and update parameters\n",
    "    step_size = 0.01;\n",
    "    a += step_size * (x * pull - a); # -a is from the regularization\n",
    "    b += step_size * (y * pull - b); # -b is from the regularization\n",
    "    c += step_size * (1 * pull);\n",
    "    if iter %25 ==0:\n",
    "        print iter, form(a), form(b), form(c), form(acc(data, labels, [a,b,c]))\n",
    "\n",
    "print iter, form(a), form(b), form(c), form(acc(data, labels, [a,b,c]))"
   ]
  },
  {
   "cell_type": "markdown",
   "metadata": {
    "collapsed": true
   },
   "source": [
    "this code gives an identical result. Perhaps by now you can glance at the code and see how these equations came about.\n",
    "\n",
    "Variable pull? A quick note to make at this point: You may have noticed that the pull is always 1,0, or -1. You could imagine doing other things, for example making this pull proportional to how bad the mistake was. This leads to a variation on the SVM that some people refer to as squared hinge loss SVM, for reasons that will later become clear. Depending on various features of your dataset, that may work better or worse. For example, if you have very bad outliers in your data, e.g. a negative data point that gets a score +100, its influence will be relatively minor on our classifier because we will only pull with force of -1 regardless of how bad the mistake was. In practice we refer to this property of a classifier as robustness to outliers.\n",
    "\n",
    "Lets recap. We introduced the binary classification problem, where we are given N D-dimensional vectors and a label +1/-1 for each. We saw that we can combine these features with a set of parameters inside a real-valued circuit (such as a Support Vector Machine circuit in our example). Then, we can repeatedly pass our data through the circuit and each time tweak the parameters so that the circuit’s output value is consistent with the provided labels. The tweaking relied, crucially, on our ability to backpropagate gradients through the circuit. In the end, the final circuit can be used to predict values for unseen instances!\n",
    "\n",
    "#### Generalizing the SVM into a Neural Network\n",
    "\n",
    "Of interest is the fact that an SVM is just a particular type of a very simple circuit (circuit that computes score = a*x + b*y + c where a,b,c are weights and x,y are data points). This can be easily extended to more complicated functions. For example, lets write a 2-layer Neural Network that does the binary classification. The forward pass will look like this:\n"
   ]
  },
  {
   "cell_type": "code",
   "execution_count": 14,
   "metadata": {
    "collapsed": false
   },
   "outputs": [],
   "source": [
    "def generalized():\n",
    "    #assume inputs x,y\n",
    "    n1 = math.max(0, a1*x + b1*y + c1); # activation of 1st hidden neuron\n",
    "    n2 = math.max(0, a2*x + b2*y + c2); # 2nd neuron\n",
    "    n3 = math.max(0, a3*x + b3*y + c3); # 3rd neuron\n",
    "    score = a4*n1 + b4*n2 + c4*n3 + d4; # the score\n"
   ]
  },
  {
   "cell_type": "markdown",
   "metadata": {},
   "source": [
    "The specification above is a 2-layer Neural Network with 3 hidden neurons (n1, n2, n3) that uses Rectified Linear Unit (ReLU) non-linearity on each hidden neuron. As you can see, there are now several parameters involved, which means that our classifier is more complex and can represent more intricate decision boundaries than just a simple linear decision rule such as an SVM. Another way to think about it is that every one of the three hidden neurons is a linear classifier and now we’re putting an extra linear classifier on top of that. Now we’re starting to go deeper :). Okay, lets train this 2-layer Neural Network. The code looks very similar to the SVM example code above, we just have to change the forward pass and the backward pass:"
   ]
  },
  {
   "cell_type": "code",
   "execution_count": 15,
   "metadata": {
    "collapsed": false
   },
   "outputs": [],
   "source": [
    "import random\n",
    "import math\n",
    "def two_layer():\n",
    "    # random initial parameters\n",
    "    a1 = random.random() - 0.5; # a random number between -0.5 and 0.5\n",
    "    # ... similarly initialize all other parameters to randoms\n",
    "    for iter  in range (0,400):\n",
    "        #pick a random data point\n",
    "        i = int(math.floor(random.random() * len(data)))\n",
    "        x = data[i][0];\n",
    "        y = data[i][1];\n",
    "        label = labels[i];\n",
    "\n",
    "        #compute forward pass\n",
    "        n1 = max(0, a1*x + b1*y + c1); # activation of 1st hidden neuron\n",
    "        n2 = max(0, a2*x + b2*y + c2); # 2nd neuron\n",
    "        n3 = max(0, a3*x + b3*y + c3); # 3rd neuron\n",
    "        score = a4*n1 + b4*n2 + c4*n3 + d4; # the score\n",
    "\n",
    "        #compute the pull on top\n",
    "        pull = 0.0;\n",
    "        if label == 1 and score < 1:\n",
    "            pull = 1; # we want higher output! Pull up.\n",
    "        if label == -1 and score > -1:\n",
    "            pull = -1; # we want lower output! Pull down.\n",
    "\n",
    "        #now compute backward pass to all parameters of the model\n",
    "\n",
    "        #backprop through the last \"score\" neuron\n",
    "        dscore = pull;\n",
    "        da4 = n1 * dscore;\n",
    "        dn1 = a4 * dscore;\n",
    "        db4 = n2 * dscore;\n",
    "        dn2 = b4 * dscore;\n",
    "        dc4 = n3 * dscore;\n",
    "        dn3 = c4 * dscore;\n",
    "        dd4 = 1.0 * dscore; # phew\n",
    "\n",
    "        #backprop the ReLU non-linearities, in place\n",
    "        #i.e. just set gradients to zero if the neurons did not \"fire\"\n",
    "        if n3 == 0:\n",
    "            dn3 = 0\n",
    "        if n2 == 0:\n",
    "            dn2 = 0\n",
    "        if n1 == 0:\n",
    "            dn1 = 0\n",
    "\n",
    "        # backprop to parameters of neuron 1\n",
    "        da1 = x * dn1;\n",
    "        db1 = y * dn1;\n",
    "        dc1 = 1.0 * dn1;\n",
    "\n",
    "        # backprop to parameters of neuron 2\n",
    "        da2 = x * dn2;\n",
    "        db2 = y * dn2;\n",
    "        dc2 = 1.0 * dn2;\n",
    "\n",
    "        #backprop to parameters of neuron 3\n",
    "        da3 = x * dn3;\n",
    "        db3 = y * dn3;\n",
    "        dc3 = 1.0 * dn3;\n",
    "\n",
    "        #phew! End of backprop!\n",
    "        #note we could have also backpropped into x,y\n",
    "        #but we do not need these gradients. We only use the gradients\n",
    "        #on our parameters in the parameter update, and we discard x,y\n",
    "\n",
    "        #add the pulls from the regularization, tugging all multiplicative\n",
    "        #parameters (i.e. not the biases) downward, proportional to their value\n",
    "        da1 += -a1; da2 += -a2; da3 += -a3;\n",
    "        db1 += -b1; db2 += -b2; db3 += -b3;\n",
    "        da4 += -a4; db4 += -b4; dc4 += -c4;\n",
    "\n",
    "        # finally, do the parameter update\n",
    "        step_size = 0.01;\n",
    "        a1 += step_size * da1; \n",
    "        b1 += step_size * db1; \n",
    "        c1 += step_size * dc1;\n",
    "        a2 += step_size * da2; \n",
    "        b2 += step_size * db2;\n",
    "        c2 += step_size * dc2;\n",
    "        a3 += step_size * da3; \n",
    "        b3 += step_size * db3; \n",
    "        c3 += step_size * dc3;\n",
    "        a4 += step_size * da4; \n",
    "        b4 += step_size * db4; \n",
    "        c4 += step_size * dc4; \n",
    "        d4 += step_size * dd4;\n",
    "        # wow this is tedious, please use for loops in prod.\n",
    "        #we're done!\n",
    "\n",
    "\n"
   ]
  },
  {
   "cell_type": "markdown",
   "metadata": {},
   "source": [
    "And that’s how you train a neural network. Obviously, you want to modularize your code nicely but I expended this example for you in the hope that it makes things much more concrete and simpler to understand. Later, we will look at best practices when implementing these networks and we will structure the code much more neatly in a modular and more sensible way.\n",
    "\n",
    "But for now, I hope your takeaway is that a 2-layer Neural Net is really not such a scary thing: we write a forward pass expression, interpret the value at the end as a score, and then we pull on that value in a positive or negative direction depending on what we want that value to be for our current particular example. The parameter update after backprop will ensure that when we see this particular example in the future, the network will be more likely to give us a value we desire, not the one it gave just before the update.\n",
    "#### A more Conventional Approach: Loss Functions\n",
    "\n",
    "Now that we understand the basics of how these circuits function with data, lets adopt a more conventional approach that you might see elsewhere on the internet and in other tutorials and books. You won’t see people talking too much about force specifications. Instead, Machine Learning algorithms are specified in terms of loss functions (or cost functions, or objectives).\n",
    "\n",
    "As I develop this formalism I would also like to start to be a little more careful with how we name our variables and parameters. I’d like these equations to look similar to what you might see in a book or some other tutorial, so let me use more standard naming conventions.\n",
    "Example: 2-D Support Vector Machine\n",
    "\n",
    "Lets start with an example of a 2-dimensional SVM. We are given a dataset of $( N )$ examples $ (x_{i0}, x_{i1}) $ and their corresponding labels $ y_{i} $ which are allowed to be either ` +1/-1 ` for positive or negative example respectively. Most importantly, as you recall we have three parameters $ (w_0, w_1, w_2) $. The SVM loss function is then defined as follows:\n",
    "\n",
    "Notice that this expression is always positive, due to the thresholding at zero in the first expression and the squaring in the regularization. The idea is that we will want this expression to be as small as possible. Before we dive into some of its subtleties let me first translate it to code:"
   ]
  },
  {
   "cell_type": "code",
   "execution_count": 9,
   "metadata": {
    "collapsed": false
   },
   "outputs": [
    {
     "name": "stdout",
     "output_type": "stream",
     "text": [
      "example  0 : xi = ( [1.2, 0.7] ) and label =  1\n",
      "  score computed to be  0.56\n",
      "  => cost computed to be  0.44\n",
      "example  1 : xi = ( [-0.3, 0.5] ) and label =  -1\n",
      "  score computed to be  0.37\n",
      "  => cost computed to be  1.37\n",
      "example  2 : xi = ( [3, 2.5] ) and label =  1\n",
      "  score computed to be  1.10\n",
      "  => cost computed to be  0.00\n",
      "regularization cost for current model is  0.01\n",
      "total cost is  1.81\n"
     ]
    },
    {
     "data": {
      "text/plain": [
       "1.815"
      ]
     },
     "execution_count": 9,
     "metadata": {},
     "output_type": "execute_result"
    }
   ],
   "source": [
    "X = [ [1.2, 0.7], [-0.3, 0.5], [3, 2.5] ] # array of 2-dimensional data\n",
    "y = [1, -1, 1] # array of labels\n",
    "w = [0.1, 0.2, 0.3] # example: random numbers\n",
    "alpha = 0.1; # regularization strength\n",
    "\n",
    "def cost(X, y, w):\n",
    "    total_cost = 0.0 # L, in SVM loss function above\n",
    "    N = len(X)\n",
    "    for i in range(0,N):\n",
    "        # loop over all data points and compute their score\n",
    "        xi = X[i]\n",
    "        score = w[0] * xi[0] + w[1] * xi[1] + w[2]\n",
    "    \n",
    "        #accumulate cost based on how compatible the score is with the label\n",
    "        yi = y[i] # label\n",
    "        costi = max(0, - yi * score + 1)\n",
    "        print 'example ', i, ': xi = (', xi, ') and label = ', yi\n",
    "        print '  score computed to be ' , form(score)\n",
    "        print '  => cost computed to be ' , form(costi)\n",
    "        total_cost += costi;\n",
    "  \n",
    "\n",
    "    # regularization cost: we want small weights\n",
    "    reg_cost = alpha * (w[0]*w[0] + w[1]*w[1])\n",
    "    print 'regularization cost for current model is ' , form(reg_cost)\n",
    "    total_cost += reg_cost\n",
    "\n",
    "    print 'total cost is ', form(total_cost)\n",
    "    return total_cost\n",
    "\n",
    "cost(X,y,w)\n"
   ]
  },
  {
   "cell_type": "markdown",
   "metadata": {
    "collapsed": true
   },
   "source": [
    "Notice how this expression works: It measures how bad our SVM classifier is. Lets step through this explicitly:\n",
    "\n",
    "* The first datapoint xi = [1.2, 0.7] with label yi = 1 will give score 0.1*1.2 + 0.2*0.7 + 0.3, which is 0.56. Notice, this is a positive example so we want to the score to be greater than +1. 0.56 is not enough. And indeed, the expression for cost for this datapoint will compute: costi = Math.max(0, -1*0.56 + 1), which is 0.44. You can think of the cost as quantifying the SVM’s unhappiness.\n",
    "* The second datapoint xi = [-0.3, 0.5] with label yi = -1 will give score 0.1*(-0.3) + 0.2*0.5 + 0.3, which is 0.37. This isn’t looking very good: This score is very high for a negative example. It should be less than -1. Indeed, when we compute the cost: costi = Math.max(0, 1*0.37 + 1), we get 1.37. That’s a very high cost from this example, as it is being misclassified.\n",
    "* The last example xi = [3, 2.5] with label yi = 1 gives score 0.1*3 + 0.2*2.5 + 0.3, and that is 1.1. In this case, the SVM will compute costi = Math.max(0, -1*1.1 + 1), which is in fact zero. This datapoint is being classified correctly and there is no cost associated with it.\n",
    "> A cost function is an expression that measuress how bad your classifier is. When the training set is perfectly classified, the cost (ignoring the regularization) will be zero.\n",
    "\n",
    "Notice that the last term in the loss is the regularization cost, which says that our model parameters should be small values. Due to this term the cost will never actually become zero (because this would mean all parameters of the model except the bias are exactly zero), but the closer we get, the better our classifier will become.\n",
    "\n",
    "> The majority of cost functions in Machine Learning consist of two parts: 1. A part that measures how well a model fits the data, and 2: Regularization, which measures some notion of how complex or likely a model is.\n",
    "\n",
    "I hope I convinced you then, that to get a very good SVM we really want to make the cost as small as possible. Sounds familiar? We know exactly what to do: The cost function written above is our circuit. We will forward all examples through the circuit, compute the backward pass and update all parameters such that the circuit will output a smaller cost in the future. Specifically, we will compute the gradient and then update the parameters in the opposite direction of the gradient (since we want to make the cost small, not large).\n",
    "\n",
    "> “We know exactly what to do: The cost function written above is our circuit.”\n",
    "\n",
    "todo: clean up this section and flesh it out a bit…\n",
    "## Chapter 3: Backprop in Practice\n",
    "\n",
    "### Building up a library\n",
    "\n",
    "### Example: Practical Neural Network Classifier\n",
    "\n",
    "* Multiclass: Structured SVM\n",
    "* Multiclass: Logistic Regression, Softmax\n",
    "\n",
    "### Example: Regression\n",
    "\n",
    "Tiny changes needed to cost function. L2 regularization.\n",
    "Example: Structured Prediction\n",
    "\n",
    "Basic idea is to train an (unnormalized) energy model\n",
    "### Vectorized Implementations\n",
    "\n",
    "Writing a Neural Net classfier in Python with numpy….\n",
    "Backprop in practice: Tips/Tricks\n",
    "\n",
    "* Monitoring of Cost function\n",
    "* Monitoring training/validation performance\n",
    "* Tweaking initial learning rates, learning rate schedules\n",
    "* Optimization: Using Momentum\n",
    "* Optimization: LBFGS, Nesterov accelerated gradient\n",
    "* Importance of Initialization: weights and biases\n",
    "* Regularization: L2, L1, Group sparsity, Dropout\n",
    "* Hyperparameter search, cross-validations\n",
    "* Common pitfalls: (e.g. dying ReLUs)\n",
    "* Handling unbalanced datasets\n",
    "* Approaches to debugging nets when something doesnt work\n",
    "\n",
    "## Chapter 4: Networks in the Wild\n",
    "\n",
    "Case studies of models that work well in practice and have been deployed in the wild.\n",
    "### Case Study: Convolutional Neural Networks for images\n",
    "\n",
    "Convolutional layers, pooling, AlexNet, etc.\n",
    "### Case Study: Recurrent Neural Networks for Speech and Text\n",
    "\n",
    "Vanilla Recurrent nets, bi-directional recurrent nets. Maybe overview of LSTM\n",
    "### Case Study: Word2Vec\n",
    "\n",
    "Training word vector representations in NLP\n",
    "### Case Study: t-SNE\n",
    "\n",
    "Training embeddings for visualizing data\n",
    "## Acknowledgements\n",
    "\n",
    "Thanks a lot to the following people who made this guide better: wodenokoto (HN), zackmorris (HN).\n",
    "Comments\n",
    "\n",
    "This guide is a work in progress and I appreciate feedback, especially regarding parts that were unclear or only made half sense. Thank you!\n",
    "\n",
    "Some of the Javascript code in this tutorial has been translated to Python by Ajit, find it over on Github."
   ]
  },
  {
   "cell_type": "code",
   "execution_count": null,
   "metadata": {
    "collapsed": true
   },
   "outputs": [],
   "source": []
  },
  {
   "cell_type": "code",
   "execution_count": null,
   "metadata": {
    "collapsed": true
   },
   "outputs": [],
   "source": []
  },
  {
   "cell_type": "code",
   "execution_count": null,
   "metadata": {
    "collapsed": true
   },
   "outputs": [],
   "source": []
  },
  {
   "cell_type": "code",
   "execution_count": null,
   "metadata": {
    "collapsed": true
   },
   "outputs": [],
   "source": []
  }
 ],
 "metadata": {
  "kernelspec": {
   "display_name": "Python 2",
   "language": "python",
   "name": "python2"
  },
  "language_info": {
   "codemirror_mode": {
    "name": "ipython",
    "version": 2
   },
   "file_extension": ".py",
   "mimetype": "text/x-python",
   "name": "python",
   "nbconvert_exporter": "python",
   "pygments_lexer": "ipython2",
   "version": "2.7.10"
  }
 },
 "nbformat": 4,
 "nbformat_minor": 1
}
